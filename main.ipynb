{
 "cells": [
  {
   "cell_type": "code",
   "execution_count": 2,
   "metadata": {},
   "outputs": [],
   "source": [
    "import os\n",
    "import torch\n",
    "from torch import nn\n",
    "from torch.utils.data import DataLoader\n",
    "from torchvision import datasets, transforms"
   ]
  },
  {
   "cell_type": "code",
   "execution_count": 3,
   "metadata": {},
   "outputs": [
    {
     "name": "stdout",
     "output_type": "stream",
     "text": [
      "         obj_ID       alpha      delta         u         g         r  \\\n",
      "0  1.237661e+18  135.689107  32.494632  23.87882  22.27530  20.39501   \n",
      "1  1.237665e+18  144.826101  31.274185  24.77759  22.83188  22.58444   \n",
      "2  1.237661e+18  142.188790  35.582444  25.26307  22.66389  20.60976   \n",
      "3  1.237663e+18  338.741038  -0.402828  22.13682  23.77656  21.61162   \n",
      "4  1.237680e+18  345.282593  21.183866  19.43718  17.58028  16.49747   \n",
      "\n",
      "          i         z  run_ID  rerun_ID  cam_col  field_ID   spec_obj_ID  \\\n",
      "0  19.16573  18.79371    3606       301        2        79  6.543777e+18   \n",
      "1  21.16812  21.61427    4518       301        5       119  1.176014e+19   \n",
      "2  19.34857  18.94827    3606       301        2       120  5.152200e+18   \n",
      "3  20.50454  19.25010    4192       301        3       214  1.030107e+19   \n",
      "4  15.97711  15.54461    8102       301        3       137  6.891865e+18   \n",
      "\n",
      "    class  redshift  plate    MJD  fiber_ID  \n",
      "0  GALAXY  0.634794   5812  56354       171  \n",
      "1  GALAXY  0.779136  10445  58158       427  \n",
      "2  GALAXY  0.644195   4576  55592       299  \n",
      "3  GALAXY  0.932346   9149  58039       775  \n",
      "4  GALAXY  0.116123   6121  56187       842  \n"
     ]
    }
   ],
   "source": [
    "import pandas as pd\n",
    "\n",
    "# Load the dataset\n",
    "file_path = \"star_classification.csv\"  # Replace with your file path\n",
    "data = pd.read_csv(file_path)\n",
    "\n",
    "# View the first few rows\n",
    "print(data.head())\n"
   ]
  },
  {
   "cell_type": "code",
   "execution_count": 4,
   "metadata": {},
   "outputs": [
    {
     "name": "stdout",
     "output_type": "stream",
     "text": [
      "        alpha      delta         u         g         r         i         z  \\\n",
      "0  135.689107  32.494632  23.87882  22.27530  20.39501  19.16573  18.79371   \n",
      "1  144.826101  31.274185  24.77759  22.83188  22.58444  21.16812  21.61427   \n",
      "2  142.188790  35.582444  25.26307  22.66389  20.60976  19.34857  18.94827   \n",
      "3  338.741038  -0.402828  22.13682  23.77656  21.61162  20.50454  19.25010   \n",
      "4  345.282593  21.183866  19.43718  17.58028  16.49747  15.97711  15.54461   \n",
      "\n",
      "   redshift  \n",
      "0  0.634794  \n",
      "1  0.779136  \n",
      "2  0.644195  \n",
      "3  0.932346  \n",
      "4  0.116123  \n"
     ]
    }
   ],
   "source": [
    "# Columns to keep as input features\n",
    "features = [\"alpha\", \"delta\", \"u\", \"g\", \"r\", \"i\", \"z\", \"redshift\"]\n",
    "\n",
    "# Select features\n",
    "X = data[features]\n",
    "print(X.head())\n"
   ]
  },
  {
   "cell_type": "code",
   "execution_count": 5,
   "metadata": {},
   "outputs": [
    {
     "name": "stdout",
     "output_type": "stream",
     "text": [
      "[[-0.43460358  0.42552871  0.0597546   0.05492616  0.40396155  0.0460074\n",
      "   0.00393658  0.07955728]\n",
      " [-0.33992143  0.36340227  0.08804527  0.07245617  1.58440609  1.18509719\n",
      "   0.09283473  0.2770962 ]\n",
      " [-0.36725058  0.58271274  0.10332677  0.06716517  0.51974532  0.1500187\n",
      "   0.00880798  0.09242283]\n",
      " [ 1.66952317 -1.24910526  0.0049215   0.10220974  1.05990425  0.80760969\n",
      "   0.01832104  0.48677026]\n",
      " [ 1.73731007 -0.150242   -0.08005533 -0.09294786 -1.69742091 -1.76788724\n",
      "  -0.09846826 -0.63026662]]\n"
     ]
    }
   ],
   "source": [
    "from sklearn.preprocessing import StandardScaler\n",
    "\n",
    "# Initialize the scaler\n",
    "scaler = StandardScaler()\n",
    "\n",
    "# Scale the features\n",
    "X_scaled = scaler.fit_transform(X)\n",
    "\n",
    "print(X_scaled[:5])  # Check the scaled features\n"
   ]
  },
  {
   "cell_type": "code",
   "execution_count": 6,
   "metadata": {},
   "outputs": [
    {
     "name": "stdout",
     "output_type": "stream",
     "text": [
      "['GALAXY' 'QSO' 'STAR']\n",
      "[0 0 0 0 0]\n"
     ]
    }
   ],
   "source": [
    "from sklearn.preprocessing import LabelEncoder\n",
    "\n",
    "# Encode the target variable\n",
    "label_encoder = LabelEncoder()\n",
    "y = label_encoder.fit_transform(data[\"class\"])\n",
    "\n",
    "# Map encoded labels back to their original class names\n",
    "print(label_encoder.classes_)  # ['GALAXY', 'STAR', 'QUASAR']\n",
    "print(y[:5])  # Encoded labels\n"
   ]
  },
  {
   "cell_type": "code",
   "execution_count": 7,
   "metadata": {},
   "outputs": [
    {
     "name": "stdout",
     "output_type": "stream",
     "text": [
      "Training data shape: (80000, 8)\n",
      "Test data shape: (20000, 8)\n"
     ]
    }
   ],
   "source": [
    "from sklearn.model_selection import train_test_split\n",
    "\n",
    "# Split the data\n",
    "X_train, X_test, y_train, y_test = train_test_split(X_scaled, y, test_size=0.2, random_state=42)\n",
    "\n",
    "print(\"Training data shape:\", X_train.shape)\n",
    "print(\"Test data shape:\", X_test.shape)\n"
   ]
  },
  {
   "cell_type": "code",
   "execution_count": 8,
   "metadata": {},
   "outputs": [
    {
     "name": "stdout",
     "output_type": "stream",
     "text": [
      "torch.Size([80000, 8]) torch.Size([80000])\n"
     ]
    }
   ],
   "source": [
    "import torch\n",
    "\n",
    "# Convert to tensors\n",
    "X_train_tensor = torch.tensor(X_train, dtype=torch.float32)\n",
    "y_train_tensor = torch.tensor(y_train, dtype=torch.long)\n",
    "X_test_tensor = torch.tensor(X_test, dtype=torch.float32)\n",
    "y_test_tensor = torch.tensor(y_test, dtype=torch.long)\n",
    "\n",
    "print(X_train_tensor.shape, y_train_tensor.shape)\n"
   ]
  },
  {
   "cell_type": "markdown",
   "metadata": {},
   "source": [
    "## Build the model"
   ]
  },
  {
   "cell_type": "code",
   "execution_count": 9,
   "metadata": {},
   "outputs": [
    {
     "name": "stdout",
     "output_type": "stream",
     "text": [
      "StellarClassificationNN(\n",
      "  (model): Sequential(\n",
      "    (0): Linear(in_features=8, out_features=128, bias=True)\n",
      "    (1): ReLU()\n",
      "    (2): Linear(in_features=128, out_features=64, bias=True)\n",
      "    (3): ReLU()\n",
      "    (4): Linear(in_features=64, out_features=3, bias=True)\n",
      "  )\n",
      ")\n",
      "tensor([[ 0.0652, -0.0868,  0.0031],\n",
      "        [ 0.0684, -0.0948, -0.0134],\n",
      "        [ 0.0885, -0.1173, -0.0604],\n",
      "        [ 0.0761, -0.1157, -0.0488],\n",
      "        [ 0.0592, -0.1022, -0.0303]], grad_fn=<AddmmBackward0>)\n"
     ]
    }
   ],
   "source": [
    "import torch\n",
    "import torch.nn as nn\n",
    "import torch.optim as optim\n",
    "\n",
    "# Define the neural network\n",
    "class StellarClassificationNN(nn.Module):\n",
    "    def __init__(self, input_size, num_classes):\n",
    "        super(StellarClassificationNN, self).__init__()\n",
    "        self.model = nn.Sequential(\n",
    "            nn.Linear(input_size, 128),\n",
    "            nn.ReLU(),\n",
    "            nn.Linear(128, 64),\n",
    "            nn.ReLU(),\n",
    "            nn.Linear(64, num_classes)\n",
    "        )\n",
    "\n",
    "    def forward(self, x):\n",
    "        return self.model(x)\n",
    "\n",
    "# Example usage\n",
    "if __name__ == \"__main__\":\n",
    "    # Assuming 8 input features: alpha, delta, u, g, r, i, z, redshift\n",
    "    input_size = 8\n",
    "    num_classes = 3  # Example: GALAXY, STAR, QUASAR\n",
    "\n",
    "    model = StellarClassificationNN(input_size, num_classes)\n",
    "    print(model)\n",
    "\n",
    "    # Dummy data for testing\n",
    "    x = torch.rand(5, input_size)  # Batch of 5 samples\n",
    "    logits = model(x)\n",
    "    print(logits)\n"
   ]
  },
  {
   "cell_type": "code",
   "execution_count": 11,
   "metadata": {},
   "outputs": [],
   "source": [
    "import pandas as pd\n",
    "import torch\n",
    "import torch.nn as nn\n",
    "import torch.optim as optim\n",
    "from sklearn.preprocessing import StandardScaler, LabelEncoder\n",
    "from sklearn.model_selection import train_test_split\n",
    "\n",
    "# Define the neural network\n",
    "class StellarClassificationNN(nn.Module):\n",
    "    def __init__(self, input_size, num_classes):\n",
    "        super(StellarClassificationNN, self).__init__()\n",
    "        self.model = nn.Sequential(\n",
    "            nn.Linear(input_size, 128),\n",
    "            nn.ReLU(),\n",
    "            nn.Linear(128, 64),\n",
    "            nn.ReLU(),\n",
    "            nn.Linear(64, num_classes)\n",
    "        )\n",
    "\n",
    "    def forward(self, x):\n",
    "        return self.model(x)\n",
    "\n",
    "# Load and preprocess the dataset\n",
    "def load_and_preprocess_data(file_path):\n",
    "    # Load dataset\n",
    "    data = pd.read_csv(file_path)\n",
    "    \n",
    "    # Select input features\n",
    "    features = [\"alpha\", \"delta\", \"u\", \"g\", \"r\", \"i\", \"z\", \"redshift\"]\n",
    "    X = data[features]\n",
    "    \n",
    "    # Normalize the features\n",
    "    scaler = StandardScaler()\n",
    "    X_scaled = scaler.fit_transform(X)\n",
    "    \n",
    "    # Encode the target variable\n",
    "    label_encoder = LabelEncoder()\n",
    "    y = label_encoder.fit_transform(data[\"class\"])\n",
    "    num_classes = len(label_encoder.classes_)  # Get number of unique classes\n",
    "    \n",
    "    # Split the data into train/test sets\n",
    "    X_train, X_test, y_train, y_test = train_test_split(X_scaled, y, test_size=0.2, random_state=42)\n",
    "    \n",
    "    # Convert to PyTorch tensors\n",
    "    X_train_tensor = torch.tensor(X_train, dtype=torch.float32)\n",
    "    y_train_tensor = torch.tensor(y_train, dtype=torch.long)\n",
    "    X_test_tensor = torch.tensor(X_test, dtype=torch.float32)\n",
    "    y_test_tensor = torch.tensor(y_test, dtype=torch.long)\n",
    "    \n",
    "    return X_train_tensor, X_test_tensor, y_train_tensor, y_test_tensor, num_classes\n",
    "\n",
    "# Training function\n",
    "def train_model(model, X_train, y_train, X_test, y_test, num_epochs=20, learning_rate=0.001):\n",
    "    # Loss and optimizer\n",
    "    criterion = nn.CrossEntropyLoss()\n",
    "    optimizer = optim.Adam(model.parameters(), lr=learning_rate)\n",
    "    \n",
    "    # Training loop\n",
    "    for epoch in range(num_epochs):\n",
    "        model.train()\n",
    "        # Forward pass\n",
    "        outputs = model(X_train)\n",
    "        loss = criterion(outputs, y_train)\n",
    "        \n",
    "        # Backward pass\n",
    "        optimizer.zero_grad()\n",
    "        loss.backward()\n",
    "        optimizer.step()\n",
    "        \n",
    "        # Evaluation on test set\n",
    "        model.eval()\n",
    "        with torch.no_grad():\n",
    "            test_outputs = model(X_test)\n",
    "            _, predicted = torch.max(test_outputs, 1)\n",
    "            accuracy = (predicted == y_test).sum().item() / y_test.size(0)\n",
    "    "
   ]
  },
  {
   "cell_type": "code",
   "execution_count": 12,
   "metadata": {},
   "outputs": [],
   "source": [
    "import matplotlib.pyplot as plt\n",
    "\n",
    "# Training function with loss tracking\n",
    "def train_model_with_loss_plot(model, X_train, y_train, X_test, y_test, num_epochs=20, learning_rate=0.001):\n",
    "    # Loss and optimizer\n",
    "    criterion = nn.CrossEntropyLoss()\n",
    "    optimizer = optim.Adam(model.parameters(), lr=learning_rate)\n",
    "    \n",
    "    # Store loss values\n",
    "    loss_history = []\n",
    "    \n",
    "    # Training loop\n",
    "    for epoch in range(num_epochs):\n",
    "        model.train()\n",
    "        # Forward pass\n",
    "        outputs = model(X_train)\n",
    "        loss = criterion(outputs, y_train)\n",
    "        loss_history.append(loss.item())  # Record loss\n",
    "        \n",
    "        # Backward pass\n",
    "        optimizer.zero_grad()\n",
    "        loss.backward()\n",
    "        optimizer.step()\n",
    "        \n",
    "        # Evaluation on test set\n",
    "        model.eval()\n",
    "        with torch.no_grad():\n",
    "            test_outputs = model(X_test)\n",
    "            _, predicted = torch.max(test_outputs, 1)\n",
    "            accuracy = (predicted == y_test).sum().item() / y_test.size(0)\n",
    "        \n",
    "        print(f\"Epoch [{epoch+1}/{num_epochs}], Loss: {loss.item():.4f}, Test Accuracy: {accuracy:.4f}\")\n",
    "    \n",
    "    # Plot the loss curve\n",
    "    plt.figure(figsize=(10, 6))\n",
    "    plt.plot(range(1, num_epochs + 1), loss_history, marker='o', linestyle='-', color='b')\n",
    "    plt.title(\"Loss Function Over Time\")\n",
    "    plt.xlabel(\"Epoch\")\n",
    "    plt.ylabel(\"Loss\")\n",
    "    plt.grid()\n",
    "    plt.show()\n"
   ]
  },
  {
   "cell_type": "code",
   "execution_count": 14,
   "metadata": {},
   "outputs": [
    {
     "name": "stdout",
     "output_type": "stream",
     "text": [
      "StellarClassificationNN(\n",
      "  (model): Sequential(\n",
      "    (0): Linear(in_features=8, out_features=128, bias=True)\n",
      "    (1): ReLU()\n",
      "    (2): Linear(in_features=128, out_features=64, bias=True)\n",
      "    (3): ReLU()\n",
      "    (4): Linear(in_features=64, out_features=3, bias=True)\n",
      "  )\n",
      ")\n",
      "Epoch [1/20], Loss: 1.0893, Test Accuracy: 0.4266\n",
      "Epoch [2/20], Loss: 1.0689, Test Accuracy: 0.5316\n",
      "Epoch [3/20], Loss: 1.0495, Test Accuracy: 0.6021\n",
      "Epoch [4/20], Loss: 1.0312, Test Accuracy: 0.6004\n",
      "Epoch [5/20], Loss: 1.0135, Test Accuracy: 0.5980\n",
      "Epoch [6/20], Loss: 0.9964, Test Accuracy: 0.5970\n",
      "Epoch [7/20], Loss: 0.9798, Test Accuracy: 0.5961\n",
      "Epoch [8/20], Loss: 0.9638, Test Accuracy: 0.5959\n",
      "Epoch [9/20], Loss: 0.9484, Test Accuracy: 0.5963\n",
      "Epoch [10/20], Loss: 0.9334, Test Accuracy: 0.5968\n",
      "Epoch [11/20], Loss: 0.9188, Test Accuracy: 0.5982\n",
      "Epoch [12/20], Loss: 0.9046, Test Accuracy: 0.6008\n",
      "Epoch [13/20], Loss: 0.8908, Test Accuracy: 0.6039\n",
      "Epoch [14/20], Loss: 0.8775, Test Accuracy: 0.6079\n",
      "Epoch [15/20], Loss: 0.8645, Test Accuracy: 0.6140\n",
      "Epoch [16/20], Loss: 0.8518, Test Accuracy: 0.6221\n",
      "Epoch [17/20], Loss: 0.8392, Test Accuracy: 0.6304\n",
      "Epoch [18/20], Loss: 0.8268, Test Accuracy: 0.6389\n",
      "Epoch [19/20], Loss: 0.8144, Test Accuracy: 0.6474\n",
      "Epoch [20/20], Loss: 0.8020, Test Accuracy: 0.6558\n"
     ]
    },
    {
     "data": {
      "image/png": "[encoded data removed]",
      "text/plain": [
       "<Figure size 1000x600 with 1 Axes>"
      ]
     },
     "metadata": {},
     "output_type": "display_data"
    }
   ],
   "source": [
    "if __name__ == \"__main__\":\n",
    "    file_path = \"star_classification.csv\"  # Replace with the correct file path\n",
    "    \n",
    "    # Load and preprocess data\n",
    "    X_train, X_test, y_train, y_test, num_classes = load_and_preprocess_data(file_path)\n",
    "    input_size = X_train.shape[1]\n",
    "    \n",
    "    # Initialize the model\n",
    "    model = StellarClassificationNN(input_size, num_classes)\n",
    "    print(model)\n",
    "    \n",
    "    # Train the model and plot the loss\n",
    "    train_model_with_loss_plot(model, X_train, y_train, X_test, y_test, num_epochs=20, learning_rate=0.001)\n"
   ]
  },
  {
   "cell_type": "code",
   "execution_count": null,
   "metadata": {},
   "outputs": [],
   "source": []
  }
 ],
 "metadata": {
  "kernelspec": {
   "display_name": "base",
   "language": "python",
   "name": "python3"
  },
  "language_info": {
   "codemirror_mode": {
    "name": "ipython",
    "version": 3
   },
   "file_extension": ".py",
   "mimetype": "text/x-python",
   "name": "python",
   "nbconvert_exporter": "python",
   "pygments_lexer": "ipython3",
   "version": "3.10.0"
  }
 },
 "nbformat": 4,
 "nbformat_minor": 2
}
